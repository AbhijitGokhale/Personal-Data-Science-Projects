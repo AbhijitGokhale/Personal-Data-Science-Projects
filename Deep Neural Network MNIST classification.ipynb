{
 "cells": [
  {
   "cell_type": "code",
   "execution_count": 1,
   "id": "ba32e65a",
   "metadata": {},
   "outputs": [],
   "source": [
    "import numpy as np\n",
    "import tensorflow as tf\n",
    "import tensorflow_datasets as tfds"
   ]
  },
  {
   "cell_type": "code",
   "execution_count": 2,
   "id": "57577627",
   "metadata": {},
   "outputs": [],
   "source": [
    "mnist_dataset, mnist_info = tfds.load(name = 'mnist', with_info = True, as_supervised = True)\n",
    "\n",
    "mnist_train, mnist_test = mnist_dataset['train'], mnist_dataset['test']"
   ]
  },
  {
   "cell_type": "code",
   "execution_count": 3,
   "id": "d02e0d64",
   "metadata": {},
   "outputs": [
    {
     "data": {
      "text/plain": [
       "tfds.core.DatasetInfo(\n",
       "    name='mnist',\n",
       "    full_name='mnist/3.0.1',\n",
       "    description=\"\"\"\n",
       "    The MNIST database of handwritten digits.\n",
       "    \"\"\",\n",
       "    homepage='http://yann.lecun.com/exdb/mnist/',\n",
       "    data_path='C:\\\\Users\\\\abhij\\\\tensorflow_datasets\\\\mnist\\\\3.0.1',\n",
       "    download_size=11.06 MiB,\n",
       "    dataset_size=21.00 MiB,\n",
       "    features=FeaturesDict({\n",
       "        'image': Image(shape=(28, 28, 1), dtype=tf.uint8),\n",
       "        'label': ClassLabel(shape=(), dtype=tf.int64, num_classes=10),\n",
       "    }),\n",
       "    supervised_keys=('image', 'label'),\n",
       "    disable_shuffling=False,\n",
       "    splits={\n",
       "        'test': <SplitInfo num_examples=10000, num_shards=1>,\n",
       "        'train': <SplitInfo num_examples=60000, num_shards=1>,\n",
       "    },\n",
       "    citation=\"\"\"@article{lecun2010mnist,\n",
       "      title={MNIST handwritten digit database},\n",
       "      author={LeCun, Yann and Cortes, Corinna and Burges, CJ},\n",
       "      journal={ATT Labs [Online]. Available: http://yann.lecun.com/exdb/mnist},\n",
       "      volume={2},\n",
       "      year={2010}\n",
       "    }\"\"\",\n",
       ")"
      ]
     },
     "execution_count": 3,
     "metadata": {},
     "output_type": "execute_result"
    }
   ],
   "source": [
    "mnist_info"
   ]
  },
  {
   "cell_type": "code",
   "execution_count": 4,
   "id": "8edab7e0",
   "metadata": {},
   "outputs": [
    {
     "data": {
      "text/plain": [
       "<tf.Tensor: shape=(), dtype=int64, numpy=6000>"
      ]
     },
     "execution_count": 4,
     "metadata": {},
     "output_type": "execute_result"
    }
   ],
   "source": [
    "num_validation_samples = 0.1 * mnist_info.splits['train'].num_examples\n",
    "\n",
    "num_validation_samples = tf.cast(num_validation_samples, tf.int64)\n",
    "\n",
    "num_validation_samples"
   ]
  },
  {
   "cell_type": "code",
   "execution_count": 5,
   "id": "92a4cfb0",
   "metadata": {},
   "outputs": [
    {
     "data": {
      "text/plain": [
       "<tf.Tensor: shape=(), dtype=int64, numpy=10000>"
      ]
     },
     "execution_count": 5,
     "metadata": {},
     "output_type": "execute_result"
    }
   ],
   "source": [
    "num_test_samples = mnist_info.splits['test'].num_examples\n",
    "\n",
    "num_test_samples = tf.cast(num_test_samples, tf.int64)\n",
    "\n",
    "num_test_samples"
   ]
  },
  {
   "cell_type": "code",
   "execution_count": 6,
   "id": "d8ca669d",
   "metadata": {},
   "outputs": [],
   "source": [
    "def scale(image , label):\n",
    "    image = tf.cast(image , tf.float32)\n",
    "    image = image / 255\n",
    "    return image , label\n",
    "\n",
    "scaled_train_validation_data = mnist_train.map(scale)\n",
    "\n",
    "test_data = mnist_test.map(scale)"
   ]
  },
  {
   "cell_type": "code",
   "execution_count": 7,
   "id": "a6d3133f",
   "metadata": {},
   "outputs": [],
   "source": [
    "# let's shuffle the data\n",
    "\n",
    "buffer_size = 1000\n",
    "\n",
    "shuffled_train_validation_data = scaled_train_validation_data.shuffle(buffer_size)\n",
    "\n",
    "validation_data = shuffled_train_validation_data.take(num_validation_samples)\n",
    "\n",
    "train_data = shuffled_train_validation_data.skip(num_validation_samples)"
   ]
  },
  {
   "cell_type": "code",
   "execution_count": 8,
   "id": "d8c42d8e",
   "metadata": {},
   "outputs": [],
   "source": [
    "# let's batch the data which will help while implementing gradient decsnet with faster learning rate\n",
    "\n",
    "batch_size = 100\n",
    "\n",
    "train_data = train_data.batch(batch_size)\n",
    "\n",
    "validation_data = validation_data.batch(num_validation_samples)\n",
    "\n",
    "test_data = test_data.batch(num_test_samples)"
   ]
  },
  {
   "cell_type": "code",
   "execution_count": 9,
   "id": "c92adafd",
   "metadata": {},
   "outputs": [],
   "source": [
    "# takes next batch (it is the only batch)\n",
    "# because as_supervized=True, we've got a 2-tuple structure\n",
    "validation_inputs, validation_targets = next(iter(validation_data))"
   ]
  },
  {
   "cell_type": "code",
   "execution_count": 10,
   "id": "0cb9ea1c",
   "metadata": {},
   "outputs": [
    {
     "name": "stdout",
     "output_type": "stream",
     "text": [
      "Epoch 1/15\n",
      "540/540 - 7s - loss: 0.2647 - accuracy: 0.9201 - val_loss: 0.1557 - val_accuracy: 0.9522\n",
      "Epoch 2/15\n",
      "540/540 - 2s - loss: 0.1048 - accuracy: 0.9684 - val_loss: 0.1187 - val_accuracy: 0.9637\n",
      "Epoch 3/15\n",
      "540/540 - 2s - loss: 0.0738 - accuracy: 0.9781 - val_loss: 0.1291 - val_accuracy: 0.9648\n",
      "Epoch 4/15\n",
      "540/540 - 2s - loss: 0.0591 - accuracy: 0.9817 - val_loss: 0.1268 - val_accuracy: 0.9628\n",
      "Epoch 5/15\n",
      "540/540 - 2s - loss: 0.0507 - accuracy: 0.9841 - val_loss: 0.1624 - val_accuracy: 0.9575\n",
      "Epoch 6/15\n",
      "540/540 - 2s - loss: 0.0400 - accuracy: 0.9874 - val_loss: 0.0938 - val_accuracy: 0.9758\n",
      "Epoch 7/15\n",
      "540/540 - 2s - loss: 0.0364 - accuracy: 0.9886 - val_loss: 0.1078 - val_accuracy: 0.9737\n",
      "Epoch 8/15\n",
      "540/540 - 2s - loss: 0.0333 - accuracy: 0.9895 - val_loss: 0.1237 - val_accuracy: 0.9718\n",
      "Epoch 9/15\n",
      "540/540 - 2s - loss: 0.0263 - accuracy: 0.9919 - val_loss: 0.1240 - val_accuracy: 0.9735\n",
      "Epoch 10/15\n",
      "540/540 - 2s - loss: 0.0284 - accuracy: 0.9907 - val_loss: 0.1097 - val_accuracy: 0.9752\n",
      "Epoch 11/15\n",
      "540/540 - 2s - loss: 0.0259 - accuracy: 0.9923 - val_loss: 0.1120 - val_accuracy: 0.9708\n",
      "Epoch 12/15\n",
      "540/540 - 6s - loss: 0.0199 - accuracy: 0.9937 - val_loss: 0.1268 - val_accuracy: 0.9743\n",
      "Epoch 13/15\n",
      "540/540 - 2s - loss: 0.0230 - accuracy: 0.9934 - val_loss: 0.0909 - val_accuracy: 0.9807\n",
      "Epoch 14/15\n",
      "540/540 - 2s - loss: 0.0180 - accuracy: 0.9947 - val_loss: 0.0960 - val_accuracy: 0.9800\n",
      "Epoch 15/15\n",
      "540/540 - 2s - loss: 0.0154 - accuracy: 0.9951 - val_loss: 0.1238 - val_accuracy: 0.9767\n"
     ]
    },
    {
     "data": {
      "text/plain": [
       "<tensorflow.python.keras.callbacks.History at 0x1a085e738b0>"
      ]
     },
     "execution_count": 10,
     "metadata": {},
     "output_type": "execute_result"
    }
   ],
   "source": [
    "# let's create the model\n",
    "\n",
    "input_size = 784\n",
    "hidden_layer_size = 200\n",
    "\n",
    "output_size = 10\n",
    "\n",
    "model = tf.keras.Sequential([\n",
    "                            tf.keras.layers.Flatten(input_shape = (28,28,1)),\n",
    "                            tf.keras.layers.Dense(hidden_layer_size, activation = 'relu'),\n",
    "                            tf.keras.layers.Dense(hidden_layer_size, activation = 'relu'),\n",
    "                            tf.keras.layers.Dense(hidden_layer_size, activation = 'relu'),\n",
    "                            tf.keras.layers.Dense(hidden_layer_size, activation = 'relu'),\n",
    "                            tf.keras.layers.Dense(hidden_layer_size, activation = 'relu'),\n",
    "                            tf.keras.layers.Dense(output_size, activation = 'softmax')\n",
    "])\n",
    "\n",
    "model.compile(optimizer = 'adam', loss = 'sparse_categorical_crossentropy', metrics = ['accuracy'])\n",
    "\n",
    "epoch_size = 15\n",
    "\n",
    "model.fit(train_data, epochs = epoch_size, validation_data =(validation_inputs, validation_targets), verbose = 2)"
   ]
  },
  {
   "cell_type": "code",
   "execution_count": 11,
   "id": "b9ba1963",
   "metadata": {},
   "outputs": [
    {
     "name": "stdout",
     "output_type": "stream",
     "text": [
      "1/1 [==============================] - 0s 460ms/step - loss: 0.1238 - accuracy: 0.9763\n"
     ]
    }
   ],
   "source": [
    "# test_model\n",
    "\n",
    "test_loss, test_accuracy = model.evaluate(test_data)"
   ]
  },
  {
   "cell_type": "code",
   "execution_count": 12,
   "id": "991e01c6",
   "metadata": {},
   "outputs": [
    {
     "name": "stdout",
     "output_type": "stream",
     "text": [
      "Test loss: 0.12. Test accuracy: 97.63%\n"
     ]
    }
   ],
   "source": [
    "# We can apply some nice formatting if we want to\n",
    "print('Test loss: {0:.2f}. Test accuracy: {1:.2f}%'.format(test_loss, test_accuracy*100.))"
   ]
  },
  {
   "cell_type": "code",
   "execution_count": null,
   "id": "06ee2034",
   "metadata": {},
   "outputs": [],
   "source": []
  }
 ],
 "metadata": {
  "kernelspec": {
   "display_name": "Python 3",
   "language": "python",
   "name": "python3"
  },
  "language_info": {
   "codemirror_mode": {
    "name": "ipython",
    "version": 3
   },
   "file_extension": ".py",
   "mimetype": "text/x-python",
   "name": "python",
   "nbconvert_exporter": "python",
   "pygments_lexer": "ipython3",
   "version": "3.9.5"
  }
 },
 "nbformat": 4,
 "nbformat_minor": 5
}

{
 "cells": [
  {
   "cell_type": "markdown",
   "metadata": {},
   "source": [
    "# Import Libraries"
   ]
  },
  {
   "cell_type": "code",
   "execution_count": 1,
   "metadata": {},
   "outputs": [],
   "source": [
    "import requests\n",
    "from bs4 import BeautifulSoup\n",
    "import time\n",
    "import smtplib"
   ]
  },
  {
   "cell_type": "code",
   "execution_count": 2,
   "metadata": {},
   "outputs": [],
   "source": [
    "# storing the product URL \n",
    "URL = \"https://www.amazon.in/Bajaj-Majesty-16-Litre-Toaster-Grill/dp/B009P2KQXK\""
   ]
  },
  {
   "cell_type": "code",
   "execution_count": 3,
   "metadata": {},
   "outputs": [],
   "source": [
    "# Transmitter Email Address\n",
    "EMAIL_ADDRESS = \"gokhaleabhi10@gmail.com\"\n",
    "\n",
    "# Reciever Email Addresses\n",
    "REMAIL_ADDRESS = [\"abhijit5oct@gmail.com\", \"funprachi@gmail.com\", \"rahuldc94@gmail.com\", \"amdekarmihir@gmail.com\"]"
   ]
  },
  {
   "cell_type": "code",
   "execution_count": 4,
   "metadata": {},
   "outputs": [],
   "source": [
    "# Defining the clinet required threshold price of the product\n",
    "WANTED_PRICE = 3900 #1900"
   ]
  },
  {
   "cell_type": "code",
   "execution_count": 5,
   "metadata": {},
   "outputs": [],
   "source": [
    "# defining the agent of the current system as the current system is used as a server to conduct the email intimation operation\n",
    "\n",
    "HEADERS = {\"User-Agent\":\"Mozilla/5.0 (Windows NT 10.0; Win64; x64) AppleWebKit/537.36 (KHTML, like Gecko) Chrome/85.0.4183.121 Safari/537.36\"}"
   ]
  },
  {
   "cell_type": "code",
   "execution_count": 6,
   "metadata": {},
   "outputs": [
    {
     "name": "stdout",
     "output_type": "stream",
     "text": [
      "Bajaj Majesty 1603 T 16L Oven Toaster Griller (OTG) with Stainless Steel Body, White\n",
      "599.\n"
     ]
    },
    {
     "ename": "ValueError",
     "evalue": "invalid literal for int() with base 10: '599.'",
     "output_type": "error",
     "traceback": [
      "\u001b[1;31m---------------------------------------------------------------------------\u001b[0m",
      "\u001b[1;31mValueError\u001b[0m                                Traceback (most recent call last)",
      "\u001b[1;32m<ipython-input-6-774e4a1a9bef>\u001b[0m in \u001b[0;36m<module>\u001b[1;34m\u001b[0m\n\u001b[0;32m     35\u001b[0m \u001b[1;33m\u001b[0m\u001b[0m\n\u001b[0;32m     36\u001b[0m \u001b[1;32mif\u001b[0m \u001b[0m__name__\u001b[0m \u001b[1;33m==\u001b[0m \u001b[1;34m\"__main__\"\u001b[0m\u001b[1;33m:\u001b[0m\u001b[1;33m\u001b[0m\u001b[1;33m\u001b[0m\u001b[0m\n\u001b[1;32m---> 37\u001b[1;33m     \u001b[0mtrack_price\u001b[0m\u001b[1;33m(\u001b[0m\u001b[1;33m)\u001b[0m\u001b[1;33m\u001b[0m\u001b[1;33m\u001b[0m\u001b[0m\n\u001b[0m",
      "\u001b[1;32m<ipython-input-6-774e4a1a9bef>\u001b[0m in \u001b[0;36mtrack_price\u001b[1;34m()\u001b[0m\n\u001b[0;32m     14\u001b[0m \u001b[1;31m# track_price() function to track the price of the product above or below threshold price\u001b[0m\u001b[1;33m\u001b[0m\u001b[1;33m\u001b[0m\u001b[1;33m\u001b[0m\u001b[0m\n\u001b[0;32m     15\u001b[0m \u001b[1;32mdef\u001b[0m \u001b[0mtrack_price\u001b[0m\u001b[1;33m(\u001b[0m\u001b[1;33m)\u001b[0m\u001b[1;33m:\u001b[0m\u001b[1;33m\u001b[0m\u001b[1;33m\u001b[0m\u001b[0m\n\u001b[1;32m---> 16\u001b[1;33m     \u001b[0mprice\u001b[0m \u001b[1;33m=\u001b[0m \u001b[0mint\u001b[0m\u001b[1;33m(\u001b[0m\u001b[0mget_price\u001b[0m\u001b[1;33m(\u001b[0m\u001b[1;33m)\u001b[0m\u001b[1;33m)\u001b[0m\u001b[1;33m\u001b[0m\u001b[1;33m\u001b[0m\u001b[0m\n\u001b[0m\u001b[0;32m     17\u001b[0m     \u001b[1;32mif\u001b[0m \u001b[0mprice\u001b[0m \u001b[1;33m>\u001b[0m \u001b[0mWANTED_PRICE\u001b[0m\u001b[1;33m:\u001b[0m\u001b[1;33m\u001b[0m\u001b[1;33m\u001b[0m\u001b[0m\n\u001b[0;32m     18\u001b[0m             \u001b[0mDIFF\u001b[0m \u001b[1;33m=\u001b[0m \u001b[0mint\u001b[0m\u001b[1;33m(\u001b[0m\u001b[0mprice\u001b[0m \u001b[1;33m-\u001b[0m \u001b[0mWANTED_PRICE\u001b[0m\u001b[1;33m)\u001b[0m\u001b[1;33m\u001b[0m\u001b[1;33m\u001b[0m\u001b[0m\n",
      "\u001b[1;31mValueError\u001b[0m: invalid literal for int() with base 10: '599.'"
     ]
    }
   ],
   "source": [
    "# sendmail() function includes the matter needs to be showcased in the email\n",
    "def sendmail():\n",
    "    subject = \"Amazon Price Dropped!\"\n",
    "    wantedprice = str(WANTED_PRICE)\n",
    "    mailtext='Subject:'+subject+'\\n\\n'+URL+'\\n\\n'+'The price is less than or equal to:'+wantedprice\n",
    "\n",
    "    server = smtplib.SMTP(host='smtp.gmail.com', port=587)\n",
    "    server.ehlo()\n",
    "    server.starttls()\n",
    "    server.login(EMAIL_ADDRESS, 'WowFirstPRICEtracked@27')\n",
    "    for i in range(len(REMAIL_ADDRESS)):\n",
    "        server.sendmail(EMAIL_ADDRESS, REMAIL_ADDRESS[i], mailtext)\n",
    "\n",
    "# track_price() function to track the price of the product above or below threshold price\n",
    "def track_price():\n",
    "    price = int(get_price())\n",
    "    if price > WANTED_PRICE:\n",
    "            DIFF = int(price - WANTED_PRICE)\n",
    "            print('The Price is ₹'+str(DIFF)+' more than '+str(WANTED_PRICE))\n",
    "    else:\n",
    "        DIFF = WANTED_PRICE - price\n",
    "        print('The Price is ₹'+str(DIFF)+' less than '+str(WANTED_PRICE))\n",
    "        sendmail()\n",
    "    return(DIFF)\n",
    "\n",
    "# get_price() function to get the price from the URL \n",
    "def get_price():\n",
    "    page = requests.get(URL, headers = HEADERS)\n",
    "    soup = BeautifulSoup(page.content, \"html.parser\")\n",
    "    title = soup.find(id = 'productTitle').get_text().strip()\n",
    "    price = soup.find(id = 'priceblock_ourprice').get_text().strip()[2:7].replace(',','')\n",
    "    print(title)\n",
    "    print(price)\n",
    "    return price\n",
    "\n",
    "if __name__ == \"__main__\":\n",
    "    track_price()"
   ]
  },
  {
   "cell_type": "code",
   "execution_count": null,
   "metadata": {},
   "outputs": [],
   "source": [
    "\n",
    "title = soup.find(id = 'productTitle').get_text().strip()\n",
    "price = soup.find(id = 'desktop_unifiedPrice').get_text().strip()[323:328].replace(',','')"
   ]
  },
  {
   "cell_type": "code",
   "execution_count": 7,
   "metadata": {},
   "outputs": [],
   "source": [
    "def sendmail():\n",
    "    subject = \"Amazon Price Dropped!\"\n",
    "    wantedprice = str(WANTED_PRICE)\n",
    "    mailtext='Subject:'+subject+'\\n\\n'+URL+'\\n\\n'+'The price is less than or equal to:'+wantedprice\n",
    "\n",
    "    server = smtplib.SMTP(host='smtp.gmail.com', port=587)\n",
    "    server.ehlo()\n",
    "    server.starttls()\n",
    "    server.login(EMAIL_ADDRESS, 'WowFirstPRICEtracked@27')\n",
    "    for i in range(len(REMAIL_ADDRESS)):\n",
    "        server.sendmail(EMAIL_ADDRESS, REMAIL_ADDRESS[i], mailtext)\n",
    "\n",
    "def track_price():\n",
    "    price = int(get_price())\n",
    "    if price > WANTED_PRICE:\n",
    "            DIFF = int(price - WANTED_PRICE)\n",
    "            print('The Price is ₹'+str(DIFF)+' more than '+str(WANTED_PRICE))\n",
    "    else:\n",
    "        DIFF = WANTED_PRICE - price\n",
    "        print('The Price is ₹'+str(DIFF)+' less than '+str(WANTED_PRICE))\n",
    "        sendmail()\n",
    "    return(DIFF)"
   ]
  }
 ],
 "metadata": {
  "kernelspec": {
   "display_name": "Python 3",
   "language": "python",
   "name": "python3"
  },
  "language_info": {
   "codemirror_mode": {
    "name": "ipython",
    "version": 3
   },
   "file_extension": ".py",
   "mimetype": "text/x-python",
   "name": "python",
   "nbconvert_exporter": "python",
   "pygments_lexer": "ipython3",
   "version": "3.9.5"
  }
 },
 "nbformat": 4,
 "nbformat_minor": 2
}
